{
 "cells": [
  {
   "cell_type": "code",
   "execution_count": null,
   "metadata": {},
   "outputs": [],
   "source": [
    "#Parcial #1\n",
    "#Danna Guevara\n",
    "#Problema 1"
   ]
  },
  {
   "cell_type": "code",
   "execution_count": 29,
   "metadata": {},
   "outputs": [],
   "source": [
    "import numpy as np \n",
    "import matplotlib.pyplot as plt "
   ]
  },
  {
   "cell_type": "code",
   "execution_count": 30,
   "metadata": {},
   "outputs": [
    {
     "data": {
      "image/png": "[encoded data removed]",
      "text/plain": [
       "<Figure size 432x288 with 1 Axes>"
      ]
     },
     "metadata": {
      "needs_background": "light"
     },
     "output_type": "display_data"
    }
   ],
   "source": [
    "A=1\n",
    "B=2\n",
    "C=0\n",
    "k=0.15\n",
    "dt=0.1\n",
    "t=0\n",
    "x=[]\n",
    "yA=[]\n",
    "yB=[]\n",
    "yC=[]\n",
    "while t<100:\n",
    "    x.append(t)\n",
    "    yA.append(A)\n",
    "    yB.append(B)\n",
    "    yC.append(C)\n",
    "    dA=-k*A*dt\n",
    "    dB=+k*A*dt\n",
    "    dC=k*B*dt\n",
    "    A+=dA\n",
    "    B+=dB\n",
    "    C+=dC\n",
    "    t+=dt\n",
    "plt.plot(x,yA)\n",
    "plt.plot(x,yB)\n",
    "plt.plot(x,yC)\n",
    "plt.xlabel(\"t(min)\")\n",
    "plt.ylabel(\"Concentración\")\n",
    "plt.title(\"Concentración vs Tiempo\")\n",
    "plt.show()"
   ]
  },
  {
   "cell_type": "code",
   "execution_count": 50,
   "metadata": {},
   "outputs": [],
   "source": [
    "#Problema #3"
   ]
  },
  {
   "cell_type": "code",
   "execution_count": 81,
   "metadata": {},
   "outputs": [],
   "source": [
    "import numpy as np \n",
    "import matplotlib.pyplot as plt "
   ]
  },
  {
   "cell_type": "code",
   "execution_count": 83,
   "metadata": {},
   "outputs": [
    {
     "data": {
      "image/png": "[encoded data removed]",
      "text/plain": [
       "<Figure size 432x288 with 1 Axes>"
      ]
     },
     "metadata": {
      "needs_background": "light"
     },
     "output_type": "display_data"
    }
   ],
   "source": [
    "x=2.52,3.86,9.64,12.52,20.10\n",
    "y=16.7,25.05,54.23,68.79,106.7\n",
    "plt.plot(x,y)\n",
    "plt.xlabel(\"x(min)\")\n",
    "plt.ylabel(\"y\")\n",
    "plt.title(\"x vs y\")\n",
    "plt.show()"
   ]
  },
  {
   "cell_type": "code",
   "execution_count": 51,
   "metadata": {},
   "outputs": [],
   "source": [
    "import numpy as np"
   ]
  },
  {
   "cell_type": "code",
   "execution_count": 52,
   "metadata": {},
   "outputs": [],
   "source": [
    "class estadistica:\n",
    "    def __init__(self,x):\n",
    "        self.x=x\n",
    "    def promedio(self):\n",
    "        n=len(self.x)\n",
    "        promedio=sum(self.x)/n\n",
    "        return promedio\n",
    "    def varianza(self):\n",
    "        n=len(self.x)\n",
    "        sigma2=sum((self.x-promedio(self.x))*(self.x-promedio(self.x)))/(n-1)\n",
    "        return sigma2\n",
    "    def minimo(self):\n",
    "        minx=9E99\n",
    "        for a in self.x:\n",
    "            if a<minx:\n",
    "                minx=a\n",
    "        return minx\n",
    "    def maximo(self):\n",
    "        max_x=-9E99\n",
    "        for a in self.x:\n",
    "            if a>max_x:\n",
    "                max_x=a\n",
    "        return max_x"
   ]
  },
  {
   "cell_type": "code",
   "execution_count": 61,
   "metadata": {},
   "outputs": [],
   "source": [
    "\n",
    "def promedio(x):\n",
    "    n=len(x)\n",
    "    promedio=sum(x)/n\n",
    "    return promedio\n",
    "def varianza(x):\n",
    "    n=len(x)\n",
    "    sigma2=sum((x-promedio(x))*(x-promedio(x)))/(n-1)\n",
    "    return sigma2\n",
    "def minimo(x):\n",
    "    minx=9E99\n",
    "    for a in x:\n",
    "        if a<minx:\n",
    "            minx=a\n",
    "    return minx\n",
    "def maximo(x):\n",
    "    max_x=-9E99\n",
    "    for a in x:\n",
    "        max_x=a\n",
    "    return max_x\n"
   ]
  },
  {
   "cell_type": "code",
   "execution_count": 62,
   "metadata": {},
   "outputs": [
    {
     "data": {
      "text/plain": [
       "9.728"
      ]
     },
     "execution_count": 62,
     "metadata": {},
     "output_type": "execute_result"
    }
   ],
   "source": [
    "x=np.array([2.52,3.86,9.64,12.52,20.10])\n",
    "promedio(x)"
   ]
  },
  {
   "cell_type": "code",
   "execution_count": 63,
   "metadata": {},
   "outputs": [
    {
     "name": "stdout",
     "output_type": "stream",
     "text": [
      "Promedio=0.2006\n",
      "Varianza=1.1094\n"
     ]
    }
   ],
   "source": [
    "x=np.random.randn(100)\n",
    "print(\"Promedio=%3.4f\"%promedio(x))\n",
    "print(\"Varianza=%3.4f\"%varianza(x))"
   ]
  },
  {
   "cell_type": "code",
   "execution_count": 64,
   "metadata": {},
   "outputs": [
    {
     "name": "stdout",
     "output_type": "stream",
     "text": [
      "Mínimo=1.0000\n",
      "Maximo=3.0000\n"
     ]
    }
   ],
   "source": [
    "x=np.array\n",
    "print(\"Mínimo=%3.4f\"%minimo(x))\n",
    "print(\"Maximo=%3.4f\"%maximo(x))"
   ]
  },
  {
   "cell_type": "code",
   "execution_count": 65,
   "metadata": {},
   "outputs": [],
   "source": [
    "x=np.array([2.52,3.86,9.64,12.52,20.10])\n",
    "st=estadistica(x)"
   ]
  },
  {
   "cell_type": "code",
   "execution_count": 67,
   "metadata": {},
   "outputs": [
    {
     "data": {
      "text/plain": [
       "9.728"
      ]
     },
     "execution_count": 67,
     "metadata": {},
     "output_type": "execute_result"
    }
   ],
   "source": [
    "st.promedio()"
   ]
  },
  {
   "cell_type": "code",
   "execution_count": 68,
   "metadata": {},
   "outputs": [
    {
     "data": {
      "text/plain": [
       "54.294"
      ]
     },
     "execution_count": 68,
     "metadata": {},
     "output_type": "execute_result"
    }
   ],
   "source": [
    "y=np.array([16.7,25.05,54.23,68.79,106.7])\n",
    "promedio(y)"
   ]
  },
  {
   "cell_type": "code",
   "execution_count": 69,
   "metadata": {},
   "outputs": [
    {
     "name": "stdout",
     "output_type": "stream",
     "text": [
      "Promedio=-0.0692\n",
      "Varianza=0.8929\n"
     ]
    }
   ],
   "source": [
    "x=np.random.randn(100)\n",
    "print(\"Promedio=%3.4f\"%promedio(x))\n",
    "print(\"Varianza=%3.4f\"%varianza(x))"
   ]
  },
  {
   "cell_type": "code",
   "execution_count": 71,
   "metadata": {},
   "outputs": [],
   "source": [
    "y=np.array([16.7,25.05,54.23,68.79,106.7])\n",
    "st=estadistica(y)"
   ]
  },
  {
   "cell_type": "code",
   "execution_count": 73,
   "metadata": {},
   "outputs": [
    {
     "data": {
      "text/plain": [
       "54.294"
      ]
     },
     "execution_count": 73,
     "metadata": {},
     "output_type": "execute_result"
    }
   ],
   "source": [
    "st.promedio()"
   ]
  },
  {
   "cell_type": "code",
   "execution_count": 72,
   "metadata": {},
   "outputs": [],
   "source": [
    "#Problema #4"
   ]
  },
  {
   "cell_type": "code",
   "execution_count": 37,
   "metadata": {},
   "outputs": [],
   "source": [
    "import requests"
   ]
  },
  {
   "cell_type": "code",
   "execution_count": 40,
   "metadata": {},
   "outputs": [],
   "source": [
    "data=requests.get(\"http://qm206.1apps.com/bases.txt\")"
   ]
  },
  {
   "cell_type": "code",
   "execution_count": 41,
   "metadata": {},
   "outputs": [
    {
     "data": {
      "text/plain": [
       "'ammonia\\r\\nNH3\\r\\n1\\r\\n4.75\\r\\ncalcium hydroxide\\r\\nCa(OH)2\\r\\n2\\r\\n2.43\\r\\n1.4\\r\\nlithium hydroxide\\r\\nLiOH\\r\\n1\\r\\n-0.36\\r\\nmethylamine\\r\\nCH3NH2\\r\\n1\\r\\n3.36\\r\\nethylamine\\r\\nC2H5NH2N\\r\\n1\\r\\n3.25\\r\\npotassium hydroxide\\r\\nKOH\\r\\n1\\r\\n0.5\\r\\nsodium hydroxide\\r\\nNaOH\\r\\n1\\r\\n0.2\\r\\naniline\\r\\nC6H5NH2\\r\\n1\\r\\n9.4'"
      ]
     },
     "execution_count": 41,
     "metadata": {},
     "output_type": "execute_result"
    }
   ],
   "source": [
    "cadena=data.text\n",
    "cadena"
   ]
  },
  {
   "cell_type": "code",
   "execution_count": 42,
   "metadata": {},
   "outputs": [
    {
     "data": {
      "text/plain": [
       "'ammonia\\nNH3\\n1\\n4.75\\ncalcium hydroxide\\nCa(OH)2\\n2\\n2.43\\n1.4\\nlithium hydroxide\\nLiOH\\n1\\n-0.36\\nmethylamine\\nCH3NH2\\n1\\n3.36\\nethylamine\\nC2H5NH2N\\n1\\n3.25\\npotassium hydroxide\\nKOH\\n1\\n0.5\\nsodium hydroxide\\nNaOH\\n1\\n0.2\\naniline\\nC6H5NH2\\n1\\n9.4'"
      ]
     },
     "execution_count": 42,
     "metadata": {},
     "output_type": "execute_result"
    }
   ],
   "source": [
    "cadena=cadena.replace(\"\\r\",\"\")\n",
    "cadena"
   ]
  },
  {
   "cell_type": "code",
   "execution_count": 43,
   "metadata": {},
   "outputs": [
    {
     "data": {
      "text/plain": [
       "['ammonia',\n",
       " 'NH3',\n",
       " '1',\n",
       " '4.75',\n",
       " 'calcium hydroxide',\n",
       " 'Ca(OH)2',\n",
       " '2',\n",
       " '2.43',\n",
       " '1.4',\n",
       " 'lithium hydroxide',\n",
       " 'LiOH',\n",
       " '1',\n",
       " '-0.36',\n",
       " 'methylamine',\n",
       " 'CH3NH2',\n",
       " '1',\n",
       " '3.36',\n",
       " 'ethylamine',\n",
       " 'C2H5NH2N',\n",
       " '1',\n",
       " '3.25',\n",
       " 'potassium hydroxide',\n",
       " 'KOH',\n",
       " '1',\n",
       " '0.5',\n",
       " 'sodium hydroxide',\n",
       " 'NaOH',\n",
       " '1',\n",
       " '0.2',\n",
       " 'aniline',\n",
       " 'C6H5NH2',\n",
       " '1',\n",
       " '9.4']"
      ]
     },
     "execution_count": 43,
     "metadata": {},
     "output_type": "execute_result"
    }
   ],
   "source": [
    "lista=cadena.split(\"\\n\")\n",
    "lista"
   ]
  },
  {
   "cell_type": "code",
   "execution_count": 44,
   "metadata": {},
   "outputs": [
    {
     "data": {
      "text/plain": [
       "{'NH3': [4.75],\n",
       " 'Ca(OH)2': [2.43, 1.4],\n",
       " 'LiOH': [-0.36],\n",
       " 'CH3NH2': [3.36],\n",
       " 'C2H5NH2N': [3.25],\n",
       " 'KOH': [0.5],\n",
       " 'NaOH': [0.2],\n",
       " 'C6H5NH2': [9.4]}"
      ]
     },
     "execution_count": 44,
     "metadata": {},
     "output_type": "execute_result"
    }
   ],
   "source": [
    "Bases={}\n",
    "i=0\n",
    "while i<len(lista):\n",
    "   \n",
    "    nombre=lista[i]\n",
    "    formula=lista[i+1]\n",
    "    n=int(lista[i+2])\n",
    "    Kb=[]\n",
    "    for k in range(n):\n",
    "        Kb.append(float(lista[i+3+k]))\n",
    "        \n",
    "    Bases[formula]=Kb\n",
    "    \n",
    "    i=i+n+3\n",
    "Bases"
   ]
  },
  {
   "cell_type": "code",
   "execution_count": null,
   "metadata": {},
   "outputs": [],
   "source": []
  }
 ],
 "metadata": {
  "kernelspec": {
   "display_name": "Python 3",
   "language": "python",
   "name": "python3"
  },
  "language_info": {
   "codemirror_mode": {
    "name": "ipython",
    "version": 3
   },
   "file_extension": ".py",
   "mimetype": "text/x-python",
   "name": "python",
   "nbconvert_exporter": "python",
   "pygments_lexer": "ipython3",
   "version": "3.6.6"
  }
 },
 "nbformat": 4,
 "nbformat_minor": 2
}
